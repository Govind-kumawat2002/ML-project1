{
 "cells": [
  {
   "cell_type": "code",
   "execution_count": 3,
   "metadata": {},
   "outputs": [
    {
     "name": "stdout",
     "output_type": "stream",
     "text": [
      "insurance_log\\24-01-25-10-53-49.log\n"
     ]
    }
   ],
   "source": [
    "import logging , os # create the log file in our projects\n",
    "from datetime import datetime \n",
    "dir_name = \"insurance_log\"\n",
    "# os.makedirs(dir_name,exist_ok=True)\n",
    "time_stamp =datetime.now().strftime(\"%d-%m-%y-%H-%M-%S\")\n",
    "file_name=time_stamp+\".log\"\n",
    "log_file_path = os.path.join(dir_name,file_name)\n",
    "print(log_file_path)"
   ]
  },
  {
   "cell_type": "code",
   "execution_count": 2,
   "metadata": {},
   "outputs": [],
   "source": [
    "import logging , os # create the log file in our projects\n",
    "from datetime import datetime \n",
    "dir_name = \"insurance_log\"\n",
    "os.makedirs(dir_name,exist_ok=True)\n",
    "time_stamp =datetime.now().strftime(\"%d-%m-%y-%H-%M-%S\")\n",
    "file_name=time_stamp+\".log\"\n",
    "log_file_path = os.path.join(dir_name,file_name)\n",
    "# print(log_file_path)\n",
    "logging.basicConfig(filename=log_file_path,level=logging.DEBUG,format='%(asctime)s-%(levelname)s,%(message)s')"
   ]
  },
  {
   "cell_type": "code",
   "execution_count": 3,
   "metadata": {},
   "outputs": [
    {
     "name": "stdout",
     "output_type": "stream",
     "text": [
      "<class 'ZeroDivisionError'> division by zero <traceback object at 0x0000016C5A0D2780>\n",
      "8\n",
      "C:\\Users\\kumaw\\AppData\\Local\\Temp\\ipykernel_4824\\2155015079.py\n"
     ]
    }
   ],
   "source": [
    "import sys\n",
    "try:\n",
    "    10/0\n",
    "\n",
    "except Exception as e:\n",
    "    rror_class,error_message,exe_tb=sys.exc_info()\n",
    "    print(rror_class,error_message,exe_tb)\n",
    "    print(exe_tb.tb_frame.f_lineno)\n",
    "    print(exe_tb.tb_frame.f_code.co_filename)\n",
    "    "
   ]
  },
  {
   "cell_type": "code",
   "execution_count": 12,
   "metadata": {},
   "outputs": [],
   "source": [
    "import sys\n",
    "class InsuranceException(Exception):\n",
    "    def __init__(self,error_message:Exception,error_detail:sys ):\n",
    "        super().__init__(error_message)\n",
    "        self.error_message = InsuranceException.error_message_detail(error_message,error_detail=error_detail)\n",
    "    @staticmethod\n",
    "    def error_message_detail(error:Exception,error_detail:sys)->str:\n",
    "        error_class,error_message,exe_tb = error_detail.exc_info()\n",
    "        line_number=exe_tb.tb_frame.f_lineno\n",
    "        file_name =exe_tb.tb_frame.f_code.co_filename\n",
    "        error_message=f\"filename {file_name},and line number {line_number},and error class {error_class}\"\n",
    "        return error_message\n",
    "    def __str__(self):\n",
    "        return InsuranceException.__name__.__str__()\n"
   ]
  },
  {
   "cell_type": "code",
   "execution_count": 14,
   "metadata": {},
   "outputs": [
    {
     "name": "stdout",
     "output_type": "stream",
     "text": [
      "InsuranceException\n"
     ]
    }
   ],
   "source": [
    "# print(IndentationError)\n",
    "import  sys\n",
    "try:\n",
    "    10/0\n",
    "except Exception as e :\n",
    "    obj=InsuranceException(e,sys)\n",
    "    print(obj)"
   ]
  },
  {
   "cell_type": "code",
   "execution_count": 7,
   "metadata": {},
   "outputs": [
    {
     "name": "stdout",
     "output_type": "stream",
     "text": [
      "None\n"
     ]
    }
   ],
   "source": [
    "\n",
    "print(obj)\n"
   ]
  },
  {
   "cell_type": "code",
   "execution_count": null,
   "metadata": {},
   "outputs": [],
   "source": []
  }
 ],
 "metadata": {
  "kernelspec": {
   "display_name": "Python 3",
   "language": "python",
   "name": "python3"
  },
  "language_info": {
   "codemirror_mode": {
    "name": "ipython",
    "version": 3
   },
   "file_extension": ".py",
   "mimetype": "text/x-python",
   "name": "python",
   "nbconvert_exporter": "python",
   "pygments_lexer": "ipython3",
   "version": "3.11.5"
  }
 },
 "nbformat": 4,
 "nbformat_minor": 2
}
